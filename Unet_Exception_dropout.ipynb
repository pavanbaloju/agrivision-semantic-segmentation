{
  "nbformat": 4,
  "nbformat_minor": 0,
  "metadata": {
    "accelerator": "GPU",
    "colab": {
      "provenance": [],
      "include_colab_link": true
    },
    "kernelspec": {
      "display_name": "Python 3",
      "language": "python",
      "name": "python3"
    },
    "language_info": {
      "codemirror_mode": {
        "name": "ipython",
        "version": 3
      },
      "file_extension": ".py",
      "mimetype": "text/x-python",
      "name": "python",
      "nbconvert_exporter": "python",
      "pygments_lexer": "ipython3",
      "version": "3.7.4"
    }
  },
  "cells": [
    {
      "cell_type": "markdown",
      "metadata": {
        "id": "view-in-github",
        "colab_type": "text"
      },
      "source": [
        "<a href=\"https://colab.research.google.com/github/pavanbaloju/agrivision-semantic-segmentation/blob/main/Unet_Exception_dropout.ipynb\" target=\"_parent\"><img src=\"https://colab.research.google.com/assets/colab-badge.svg\" alt=\"Open In Colab\"/></a>"
      ]
    },
    {
      "cell_type": "code",
      "metadata": {
        "id": "rLF-S0PQ-T48",
        "colab": {
          "base_uri": "https://localhost:8080/",
          "height": 35
        },
        "outputId": "185d30f0-9609-4685-cc68-1daf4acc9d43"
      },
      "source": [
        "from google.colab import drive\n",
        "drive.mount('/content/drive')"
      ],
      "execution_count": null,
      "outputs": [
        {
          "output_type": "stream",
          "text": [
            "Drive already mounted at /content/drive; to attempt to forcibly remount, call drive.mount(\"/content/drive\", force_remount=True).\n"
          ],
          "name": "stdout"
        }
      ]
    },
    {
      "cell_type": "code",
      "metadata": {
        "id": "DHy_zx2x7M3m"
      },
      "source": [
        "# !tar -xf drive/My\\ Drive/Agriculture-Vision.tar"
      ],
      "execution_count": null,
      "outputs": []
    },
    {
      "cell_type": "markdown",
      "metadata": {
        "id": "FiOjKyK7C4x7"
      },
      "source": [
        "importing libraries"
      ]
    },
    {
      "cell_type": "code",
      "metadata": {
        "id": "sv5QTYEp7XZK",
        "colab": {
          "base_uri": "https://localhost:8080/",
          "height": 92
        },
        "outputId": "b7e547eb-9636-4a0d-8a55-db0b02a18725"
      },
      "source": [
        "import numpy as np\n",
        "import pandas as pd\n",
        "import keras\n",
        "import seaborn as sns\n",
        "import matplotlib.pyplot as plt\n",
        "import keras.backend as K\n",
        "import tensorflow as tf\n",
        "from keras.preprocessing.image import ImageDataGenerator\n",
        "from keras.optimizers import *"
      ],
      "execution_count": null,
      "outputs": [
        {
          "output_type": "stream",
          "text": [
            "Using TensorFlow backend.\n",
            "/usr/local/lib/python3.6/dist-packages/statsmodels/tools/_testing.py:19: FutureWarning: pandas.util.testing is deprecated. Use the functions in the public API at pandas.testing instead.\n",
            "  import pandas.util.testing as tm\n"
          ],
          "name": "stderr"
        }
      ]
    },
    {
      "cell_type": "markdown",
      "metadata": {
        "id": "2qlc_8_eC9PA"
      },
      "source": [
        "defining datagenerators"
      ]
    },
    {
      "cell_type": "code",
      "metadata": {
        "id": "1wfGrx_k7yNu"
      },
      "source": [
        "data_gen_args = dict(rescale = 1/255.,\n",
        "                     rotation_range=90,\n",
        "                     zoom_range=[0.5,1.0],\n",
        "                     horizontal_flip = True,\n",
        "                     vertical_flip = True,)\n",
        "train_image_datagen = ImageDataGenerator(**data_gen_args, )\n",
        "train_mask_datagen = ImageDataGenerator(**data_gen_args)\n",
        "val_image_datagen = ImageDataGenerator(rescale = 1/255.)\n",
        "val_mask_datagen = ImageDataGenerator(rescale = 1/255.)"
      ],
      "execution_count": null,
      "outputs": []
    },
    {
      "cell_type": "markdown",
      "metadata": {
        "id": "R33FtaTbDBUB"
      },
      "source": [
        "loading data"
      ]
    },
    {
      "cell_type": "code",
      "metadata": {
        "id": "FPFDn-7Y8Li9",
        "colab": {
          "base_uri": "https://localhost:8080/",
          "height": 35
        },
        "outputId": "14538878-32e8-483b-f83c-bd5a6827357d"
      },
      "source": [
        "train_df = pd.read_csv(\"train_df.csv\", index_col = [0])\n",
        "val_df = pd.read_csv(\"val_df.csv\", index_col=[0])\n",
        "print(train_df.shape, val_df.shape)"
      ],
      "execution_count": null,
      "outputs": [
        {
          "output_type": "stream",
          "text": [
            "(2338, 3) (1025, 3)\n"
          ],
          "name": "stdout"
        }
      ]
    },
    {
      "cell_type": "markdown",
      "metadata": {
        "id": "HcQlhiFzDDhJ"
      },
      "source": [
        "creating mask paths"
      ]
    },
    {
      "cell_type": "code",
      "metadata": {
        "id": "7FOAHEXW8zA2"
      },
      "source": [
        "def func(f):\n",
        "  return f[:-3]+\"png\"\n",
        "train_mask_df = pd.DataFrame(train_df[\"image_name\"].apply(func), columns=[\"image_name\"])"
      ],
      "execution_count": null,
      "outputs": []
    },
    {
      "cell_type": "code",
      "metadata": {
        "id": "VWnWXmaK9foQ"
      },
      "source": [
        "val_mask_df = pd.DataFrame(val_df[\"image_name\"].apply(func), columns=[\"image_name\"])"
      ],
      "execution_count": null,
      "outputs": []
    },
    {
      "cell_type": "markdown",
      "metadata": {
        "id": "n5AMlIqQDIx_"
      },
      "source": [
        "Creating train and mask generators of batchsize =8 and img_size = 256,256"
      ]
    },
    {
      "cell_type": "code",
      "metadata": {
        "id": "Z8MjFWuI-mMO",
        "colab": {
          "base_uri": "https://localhost:8080/",
          "height": 90
        },
        "outputId": "75d16c32-c481-484f-e2f3-8d858b066b00"
      },
      "source": [
        "train_image_generator = train_image_datagen.flow_from_dataframe(\n",
        "  train_df, directory = \"Agriculture-Vision/train/images/rgb\", x_col = \"image_name\", \n",
        "  batch_size = , seed = 42,class_mode = None\n",
        ")\n",
        "val_image_generator = val_image_datagen.flow_from_dataframe(\n",
        "  val_df, directory = \"Agriculture-Vision/val/images/rgb\", x_col = \"image_name\", \n",
        "  batch_size = 16, seed = 42,class_mode = None\n",
        ")\n",
        "train_mask_generator = train_mask_datagen.flow_from_dataframe(\n",
        "  train_mask_df, directory = \"Agriculture-Vision/train/labels/weed_cluster\", x_col = \"image_name\", \n",
        "  batch_size = 16, seed = 42, color_mode =\"grayscale\", class_mode = None\n",
        ")\n",
        "val_mask_generator = val_mask_datagen.flow_from_dataframe(\n",
        "  val_mask_df, directory = \"Agriculture-Vision/val/labels/weed_cluster\", x_col = \"image_name\", \n",
        "  batch_size = 16, seed = 42, color_mode =\"grayscale\", class_mode = None\n",
        ")"
      ],
      "execution_count": null,
      "outputs": [
        {
          "output_type": "stream",
          "text": [
            "Found 2338 validated image filenames.\n",
            "Found 1025 validated image filenames.\n",
            "Found 2338 validated image filenames.\n",
            "Found 1025 validated image filenames.\n"
          ],
          "name": "stdout"
        }
      ]
    },
    {
      "cell_type": "code",
      "metadata": {
        "id": "QCyeZSDdCNfT"
      },
      "source": [
        "train_generator = zip(train_image_generator, train_mask_generator)\n",
        "val_generator = zip(val_image_generator, val_mask_generator)"
      ],
      "execution_count": null,
      "outputs": []
    },
    {
      "cell_type": "code",
      "metadata": {
        "id": "VJ8pQ6PLEXGI",
        "colab": {
          "base_uri": "https://localhost:8080/",
          "height": 35
        },
        "outputId": "8263bbe1-993f-49d5-a88d-35f8cd0e8b7d"
      },
      "source": [
        "x = train_image_generator.next()\n",
        "x.shape"
      ],
      "execution_count": null,
      "outputs": [
        {
          "output_type": "execute_result",
          "data": {
            "text/plain": [
              "(16, 256, 256, 3)"
            ]
          },
          "metadata": {
            "tags": []
          },
          "execution_count": 124
        }
      ]
    },
    {
      "cell_type": "code",
      "metadata": {
        "id": "JdAEV56YE8Fu",
        "colab": {
          "base_uri": "https://localhost:8080/",
          "height": 35
        },
        "outputId": "78a9e409-3374-4dd9-91bf-a01459cfbe24"
      },
      "source": [
        "y = train_mask_generator.next()\n",
        "y.shape"
      ],
      "execution_count": null,
      "outputs": [
        {
          "output_type": "execute_result",
          "data": {
            "text/plain": [
              "(16, 256, 256, 1)"
            ]
          },
          "metadata": {
            "tags": []
          },
          "execution_count": 125
        }
      ]
    },
    {
      "cell_type": "markdown",
      "metadata": {
        "id": "XsS4SuVpDT46"
      },
      "source": [
        "showing an image from trainset"
      ]
    },
    {
      "cell_type": "code",
      "metadata": {
        "id": "2MSsFebXFKue",
        "colab": {
          "base_uri": "https://localhost:8080/",
          "height": 521
        },
        "outputId": "6947964d-9d08-40e7-bf0c-44e1ebd172bb"
      },
      "source": [
        "index = np.random.randint(16)\n",
        "plt.imshow(x[index,:,:,:])\n",
        "plt.show()\n",
        "plt.imshow(y[index,:,:,0])\n",
        "plt.show()"
      ],
      "execution_count": null,
      "outputs": [
        {
          "output_type": "display_data",
          "data": {
            "image/png": "[encoded data removed]",
            "text/plain": [
              "<Figure size 432x288 with 1 Axes>"
            ]
          },
          "metadata": {
            "tags": [],
            "needs_background": "light"
          }
        },
        {
          "output_type": "display_data",
          "data": {
            "image/png": "[encoded data removed]",
            "text/plain": [
              "<Figure size 432x288 with 1 Axes>"
            ]
          },
          "metadata": {
            "tags": [],
            "needs_background": "light"
          }
        }
      ]
    },
    {
      "cell_type": "markdown",
      "metadata": {
        "id": "AxPltm8cDXTE"
      },
      "source": [
        "Defining Unet-Xception Style model"
      ]
    },
    {
      "cell_type": "code",
      "metadata": {
        "id": "wiwQKo4Iu8cG"
      },
      "source": [
        "from keras import layers\n",
        "input_shape = (256,256,3)\n",
        "n_class = 1\n",
        "def get_model(img_size=(128,128,1), n_classes=1):\n",
        "    inputs = keras.Input(img_size)\n",
        "\n",
        "    ### [First half of the network: downsampling inputs] ###\n",
        "\n",
        "\n",
        "    # Entry block\n",
        "    x = layers.Conv2D(32, 3, strides=2, padding=\"same\")(inputs)\n",
        "    x = layers.BatchNormalization()(x)\n",
        "    x = layers.Activation(\"relu\")(x)\n",
        "    x = layers.Dropout(rate = 0.2)(x)\n",
        "\n",
        "    previous_block_activation = x  # Set aside residual\n",
        "\n",
        "    # Blocks 1, 2, 3 are identical apart from the feature depth.\n",
        "    for filters in [64, 128, 256]:\n",
        "        x = layers.Activation(\"relu\")(x)\n",
        "        x = layers.Dropout(rate = 0.2)(x)\n",
        "        x = layers.SeparableConv2D(filters, 3, padding=\"same\")(x)\n",
        "        x = layers.BatchNormalization()(x)\n",
        "\n",
        "        x = layers.Activation(\"relu\")(x)\n",
        "        x = layers.Dropout(rate = 0.2)(x)\n",
        "        x = layers.SeparableConv2D(filters, 3, padding=\"same\")(x)\n",
        "        x = layers.BatchNormalization()(x)\n",
        "\n",
        "        x = layers.MaxPooling2D(3, strides=2, padding=\"same\")(x)\n",
        "\n",
        "        # Project residual\n",
        "        residual = layers.Conv2D(filters, 1, strides=2, padding=\"same\")(\n",
        "            previous_block_activation\n",
        "        )\n",
        "        x = layers.add([x, residual])  # Add back residual\n",
        "        previous_block_activation = x  # Set aside next residual\n",
        "\n",
        "    ### [Second half of the network: upsampling inputs] ###\n",
        "\n",
        "    previous_block_activation = x  # Set aside residual\n",
        "\n",
        "    for filters in [256, 128, 64, 32]:\n",
        "        x = layers.Activation(\"relu\")(x)\n",
        "        x = layers.Dropout(rate = 0.2)(x)\n",
        "        x = layers.Conv2DTranspose(filters, 3, padding=\"same\")(x)\n",
        "        x = layers.BatchNormalization()(x)\n",
        "\n",
        "        x = layers.Activation(\"relu\")(x)\n",
        "        x = layers.Dropout(rate = 0.2)(x)\n",
        "        x = layers.Conv2DTranspose(filters, 3, padding=\"same\")(x)\n",
        "        x = layers.BatchNormalization()(x)\n",
        "\n",
        "        x = layers.UpSampling2D(2)(x)\n",
        "\n",
        "        # Project residual\n",
        "        residual = layers.UpSampling2D(2)(previous_block_activation)\n",
        "        residual = layers.Conv2D(filters, 1, padding=\"same\")(residual)\n",
        "        x = layers.add([x, residual])  # Add back residual\n",
        "        previous_block_activation = x  # Set aside next residual\n",
        "\n",
        "    # Add a per-pixel classification layer\n",
        "    outputs = layers.Conv2D(n_classes, 3, activation=\"sigmoid\", padding=\"same\")(x)\n",
        "\n",
        "    # Define the model\n",
        "    model = keras.Model(inputs, outputs)\n",
        "    return model\n",
        "\n",
        "# Free up RAM in case the model definition cells were run multiple times\n",
        "keras.backend.clear_session()\n",
        "\n",
        "# Build model\n",
        "model = get_model(input_shape, n_class)\n"
      ],
      "execution_count": null,
      "outputs": []
    },
    {
      "cell_type": "markdown",
      "metadata": {
        "id": "kASgtJJlDcC-"
      },
      "source": [
        "Defining Soft dice loss and callbacks"
      ]
    },
    {
      "cell_type": "code",
      "metadata": {
        "id": "mMMh9RIHqJLl"
      },
      "source": [
        "def soft_dice_loss(y_true, y_pred, epsilon=1e-6): \n",
        "    axes = tuple(range(1, len(y_pred.shape)-1)) \n",
        "    numerator = 2. * K.sum(y_pred * y_true, axes)\n",
        "    denominator = K.sum(K.square(y_pred) + K.square(y_true), axes)\n",
        "    \n",
        "    return 1 - K.mean((numerator + epsilon) / (denominator + epsilon))\n",
        "def mean_iou(y_true, y_pred):\n",
        "    y_pred = K.cast(K.greater(y_pred, .5), dtype='float32') # .5 is the threshold\n",
        "    inter = K.sum(K.sum(K.squeeze(y_true * y_pred, axis=3), axis=2), axis=1)\n",
        "    union = K.sum(K.sum(K.squeeze(y_true + y_pred, axis=3), axis=2), axis=1) - inter\n",
        "    return K.mean((inter + K.epsilon()) / (union + K.epsilon()))\n",
        "\n",
        "def scheduler(epoch, lr):\n",
        "  if (epoch%5 !=0) | (epoch==0):\n",
        "    return float(lr)\n",
        "  else:\n",
        "    return float(lr * 0.25)\n",
        "losses = []\n",
        "val_losses = []\n",
        "mean_ious = []\n",
        "val_mean_ious = []\n",
        "class CustomCallback(keras.callbacks.Callback):\n",
        "  def on_epoch_end(self, epoch, logs=None):\n",
        "      losses.append(logs[\"loss\"])\n",
        "      val_losses.append(logs[\"val_loss\"])\n",
        "      mean_ious.append(logs[\"mean_iou\"])\n",
        "      val_mean_ious.append(logs[\"val_mean_iou\"])\n",
        "\n",
        "callback = keras.callbacks.LearningRateScheduler(scheduler, verbose = 1)\n",
        "checkpoint = keras.callbacks.ModelCheckpoint(\n",
        "    filepath = \"best_weights_of_unet_exceptio_dropout.hdf5\",\n",
        "    save_weights_only=True,\n",
        "    monitor='mean_iou', \n",
        "    mode='max',\n",
        "    save_best_only=True, verbose = 1)\n",
        "reduce_lr = tf.keras.callbacks.ReduceLROnPlateau(monitor='val_loss', factor=0.2,\n",
        "                              patience=3, min_lr=1e-7)\n",
        "callback2 = tf.keras.callbacks.EarlyStopping(monitor='val_mean_iou', patience=5)\n",
        "\n"
      ],
      "execution_count": null,
      "outputs": []
    },
    {
      "cell_type": "markdown",
      "metadata": {
        "id": "Sn3uK0AJDh7n"
      },
      "source": [
        "compiling model"
      ]
    },
    {
      "cell_type": "code",
      "metadata": {
        "id": "MBGBuQmnvr92"
      },
      "source": [
        "opt = keras.optimizers.Adam(learning_rate=0.01)\n",
        "\n",
        "model.compile(optimizer=opt, loss = [soft_dice_loss], metrics= [mean_iou])"
      ],
      "execution_count": null,
      "outputs": []
    },
    {
      "cell_type": "markdown",
      "metadata": {
        "id": "f5fC27esDmcY"
      },
      "source": [
        "first training for 35 epochs with scheduler"
      ]
    },
    {
      "cell_type": "code",
      "metadata": {
        "id": "3cqoI4ZUwkIV"
      },
      "source": [
        "history = model.fit_generator(train_generator, steps_per_epoch= 400, epochs = 35,validation_data=val_generator,\n",
        "                    validation_steps = 80, initial_epoch = 0, callbacks=[checkpoint, callback])"
      ],
      "execution_count": null,
      "outputs": []
    },
    {
      "cell_type": "markdown",
      "metadata": {
        "id": "SWuuoCswDu1l"
      },
      "source": [
        "plots of first training"
      ]
    },
    {
      "cell_type": "code",
      "metadata": {
        "id": "EWWNtj_43sOi"
      },
      "source": [
        "plt.plot(history.history['mean_io_u'])\n",
        "plt.plot(history.history['val_mean_io_u'])\n",
        "plt.title('model mean_io_u')\n",
        "plt.ylabel('mean_io_u')\n",
        "plt.xlabel('epoch')\n",
        "plt.legend(['train', 'test'], loc='upper left')\n",
        "plt.show()\n",
        "\n",
        "plt.plot(history.history['loss'])a\n",
        "plt.plot(history.history['val_loss'])\n",
        "plt.title('model loss')\n",
        "plt.ylabel('loss')\n",
        "plt.xlabel('epoch')\n",
        "plt.legend(['train', 'test'], loc='upper left')\n",
        "plt.show()"
      ],
      "execution_count": null,
      "outputs": []
    },
    {
      "cell_type": "code",
      "metadata": {
        "id": "ptudGJ_TZWSV"
      },
      "source": [
        "def scheduler(epoch, lr):\n",
        "  if epoch < 40:\n",
        "    return 0.0005\n",
        "  else:\n",
        "    return float(lr * tf.math.exp(-0.1))\n",
        "\n",
        "callback = keras.callbacks.LearningRateScheduler(scheduler, verbose = 1)"
      ],
      "execution_count": null,
      "outputs": []
    },
    {
      "cell_type": "markdown",
      "metadata": {
        "id": "kxMCEIF_DyXa"
      },
      "source": [
        "extending training for 15 epochs"
      ]
    },
    {
      "cell_type": "code",
      "metadata": {
        "id": "q8dz8Si3Y5aT"
      },
      "source": [
        "history2 = model.fit_generator(train_generator, steps_per_epoch= 500, epochs = 50,validation_data=val_generator,\n",
        "                    validation_steps = 158, initial_epoch = 35, callbacks=[checkpoint, callback])"
      ],
      "execution_count": null,
      "outputs": []
    },
    {
      "cell_type": "code",
      "metadata": {
        "id": "SWqqmZiOpSWG"
      },
      "source": [
        "def scheduler(epoch, lr):\n",
        "  if epoch%5==0:\n",
        "    return float(lr*0.5)\n",
        "  else:\n",
        "    return float(lr)\n",
        "\n",
        "callback2 = keras.callbacks.LearningRateScheduler(scheduler, verbose = 1)"
      ],
      "execution_count": null,
      "outputs": []
    },
    {
      "cell_type": "markdown",
      "metadata": {
        "id": "eZT5Fv9lD2Wb"
      },
      "source": [
        "extending training for 30 epochs"
      ]
    },
    {
      "cell_type": "code",
      "metadata": {
        "id": "WDAvxocJh_kE"
      },
      "source": [
        "history3 = model.fit_generator(train_generator, steps_per_epoch= 500, epochs = 80,validation_data=val_generator,\n",
        "                    validation_steps = 158, initial_epoch = 50, callbacks=[checkpoint, callback2])"
      ],
      "execution_count": null,
      "outputs": []
    },
    {
      "cell_type": "code",
      "metadata": {
        "id": "Kf3XXiXO4Wa7"
      },
      "source": [
        "x = train_image_generator.next()\n",
        "y = train_mask_generator.next()"
      ],
      "execution_count": null,
      "outputs": []
    },
    {
      "cell_type": "code",
      "metadata": {
        "id": "k9koUlLWfxMO"
      },
      "source": [
        "pred = (model.predict(x)>0.5).astype(int)"
      ],
      "execution_count": null,
      "outputs": []
    },
    {
      "cell_type": "markdown",
      "metadata": {
        "id": "55J870c4D7pd"
      },
      "source": [
        "Plotting predictions vs true mask"
      ]
    },
    {
      "cell_type": "code",
      "metadata": {
        "id": "rY0s5C09f5_0"
      },
      "source": [
        "ind = 0\n",
        "plt.imshow(pred[ind,:,:,0])\n",
        "plt.show()\n",
        "plt.imshow(y[ind,:,:,0])\n",
        "plt.show()"
      ],
      "execution_count": null,
      "outputs": []
    },
    {
      "cell_type": "code",
      "metadata": {
        "id": "2-nsms14Cijn"
      },
      "source": [
        "x = train_image_generator.next()\n",
        "y = train_mask_generator.next()\n",
        "preds = (model.predict(x)>0.5).astype(int)"
      ],
      "execution_count": null,
      "outputs": []
    },
    {
      "cell_type": "code",
      "metadata": {
        "id": "5Zzf5BTUCnjE"
      },
      "source": [
        "ind = 2\n",
        "plt.imshow(preds[ind,:,:,0])\n",
        "plt.show()\n",
        "plt.imshow(y[ind,:,:,0])\n",
        "plt.show()"
      ],
      "execution_count": null,
      "outputs": []
    },
    {
      "cell_type": "code",
      "metadata": {
        "id": "CUYK48H8Z2Qp"
      },
      "source": [
        "losses = []\n",
        "val_losses = []\n",
        "iou = []\n",
        "val_iou = []\n",
        "for his in [history, history2, history3]:\n",
        "    losses = losses + his.history[\"loss\"]\n",
        "    val_losses = val_losses + his.history[\"val_loss\"]\n",
        "    iou = iou + his.history[\"mean_io_u\"]\n",
        "    val_iou = val_iou + his.history[\"val_mean_io_u\"]"
      ],
      "execution_count": null,
      "outputs": []
    },
    {
      "cell_type": "markdown",
      "metadata": {
        "id": "zKhKUJjnEBy7"
      },
      "source": [
        "plotting overall training losses and mean ious"
      ]
    },
    {
      "cell_type": "code",
      "metadata": {
        "id": "EQDDOFNw6WBr"
      },
      "source": [
        "plt.plot(iou)\n",
        "plt.plot(val_iou)\n",
        "plt.title('model mean_io_u')\n",
        "plt.ylabel('mean_io_u')\n",
        "plt.xlabel('epoch')\n",
        "plt.legend(['train', 'test'], loc='upper left')\n",
        "plt.show()\n",
        "\n",
        "plt.plot(losses[:-1])\n",
        "plt.plot(val_losses[:-1])\n",
        "plt.title('model loss')\n",
        "plt.ylabel('loss')\n",
        "plt.xlabel('epoch')\n",
        "plt.legend(['train', 'test'], loc='upper left')"
      ],
      "execution_count": null,
      "outputs": []
    },
    {
      "cell_type": "code",
      "metadata": {
        "id": "ynOU3MPs8voo"
      },
      "source": [
        "model.load_weights(\"best_weights_of_unet_exce.hdf5\")"
      ],
      "execution_count": null,
      "outputs": []
    },
    {
      "cell_type": "markdown",
      "metadata": {
        "id": "3odjWu5REG8W"
      },
      "source": [
        "loss and mean_iou of train_set"
      ]
    },
    {
      "cell_type": "code",
      "metadata": {
        "id": "Lf8NChM5BX-R"
      },
      "source": [
        "model.evaluate_generator(train_generator, steps = 8, verbose = 1)"
      ],
      "execution_count": null,
      "outputs": []
    },
    {
      "cell_type": "markdown",
      "metadata": {
        "id": "xPL--PFbEMLN"
      },
      "source": [
        "loss and iou of val set"
      ]
    },
    {
      "cell_type": "code",
      "metadata": {
        "id": "44dQpg0hCDX1"
      },
      "source": [
        "model.evaluate_generator(val_generator, steps = 8, verbose = 1)"
      ],
      "execution_count": null,
      "outputs": []
    },
    {
      "cell_type": "markdown",
      "metadata": {
        "id": "wcyFJ6i2IVB0"
      },
      "source": [
        "Predicting random test image"
      ]
    },
    {
      "cell_type": "code",
      "metadata": {
        "id": "oKcKLVM9Eebs"
      },
      "source": [
        "import os\n",
        "import cv2\n",
        "test_paths = sorted(os.listdir(\"Agriculture-Vision/test/images/rgb\"))\n",
        "index = np.random.randint(len(test_paths))\n",
        "img = cv2.resize(cv2.imread(os.path.join(\"Agriculture-Vision/test/images/rgb\", test_paths[index])), (256,256))\n",
        "print(img.shape)\n",
        "plt.imshow(img)\n",
        "plt.show()\n",
        "img = np.expand_dims(np.array(img), axis = 0)\n",
        "print(img.shape)\n",
        "plt.imshow((model.predict(img/255.)>0.5).astype(int)[0,:,:,0], )\n",
        "plt.show()\n",
        "print(index)"
      ],
      "execution_count": null,
      "outputs": []
    },
    {
      "cell_type": "code",
      "metadata": {
        "id": "La72mxIFFY3j"
      },
      "source": [],
      "execution_count": null,
      "outputs": []
    }
  ]
}