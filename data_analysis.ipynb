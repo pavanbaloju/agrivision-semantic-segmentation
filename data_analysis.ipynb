{
  "nbformat": 4,
  "nbformat_minor": 0,
  "metadata": {
    "colab": {
      "provenance": [],
      "mount_file_id": "1-SMG3k-gQP436noFLw1pzYc6zLWSGjCn",
      "authorship_tag": "ABX9TyPciKQq77/FHcebP9ksT1Fz",
      "include_colab_link": true
    },
    "kernelspec": {
      "name": "python3",
      "display_name": "Python 3"
    }
  },
  "cells": [
    {
      "cell_type": "markdown",
      "metadata": {
        "id": "view-in-github",
        "colab_type": "text"
      },
      "source": [
        "<a href=\"https://colab.research.google.com/github/pavanbaloju/agrivision-semantic-segmentation/blob/main/data_analysis.ipynb\" target=\"_parent\"><img src=\"https://colab.research.google.com/assets/colab-badge.svg\" alt=\"Open In Colab\"/></a>"
      ]
    },
    {
      "cell_type": "code",
      "metadata": {
        "id": "DCI9jxuitjSl"
      },
      "source": [
        "# !tar -xf drive/My\\ Drive/Agriculture-Vision.tar"
      ],
      "execution_count": null,
      "outputs": []
    },
    {
      "cell_type": "code",
      "metadata": {
        "id": "29_E6ZxUGzqJ",
        "colab": {
          "base_uri": "https://localhost:8080/",
          "height": 74
        },
        "outputId": "67418549-d515-44af-f842-e61250f208bc"
      },
      "source": [
        " import numpy as np\n",
        "import pandas as pd\n",
        "import matplotlib.pyplot as plt\n",
        "import seaborn as sns\n",
        "import os"
      ],
      "execution_count": null,
      "outputs": [
        {
          "output_type": "stream",
          "text": [
            "/usr/local/lib/python3.6/dist-packages/statsmodels/tools/_testing.py:19: FutureWarning: pandas.util.testing is deprecated. Use the functions in the public API at pandas.testing instead.\n",
            "  import pandas.util.testing as tm\n"
          ],
          "name": "stderr"
        }
      ]
    },
    {
      "cell_type": "code",
      "metadata": {
        "id": "imO46jKVJRZv",
        "colab": {
          "base_uri": "https://localhost:8080/",
          "height": 225
        },
        "outputId": "c5cd179e-1981-4be0-d9f1-af8139a21511"
      },
      "source": [
        "df = pd.read_csv(\"train4.csv\", index_col= [0])\n",
        "print(df.shape)\n",
        "df.head()"
      ],
      "execution_count": null,
      "outputs": [
        {
          "output_type": "stream",
          "text": [
            "(12901, 4)\n"
          ],
          "name": "stdout"
        },
        {
          "output_type": "execute_result",
          "data": {
            "text/html": [
              "<div>\n",
              "<style scoped>\n",
              "    .dataframe tbody tr th:only-of-type {\n",
              "        vertical-align: middle;\n",
              "    }\n",
              "\n",
              "    .dataframe tbody tr th {\n",
              "        vertical-align: top;\n",
              "    }\n",
              "\n",
              "    .dataframe thead th {\n",
              "        text-align: right;\n",
              "    }\n",
              "</style>\n",
              "<table border=\"1\" class=\"dataframe\">\n",
              "  <thead>\n",
              "    <tr style=\"text-align: right;\">\n",
              "      <th></th>\n",
              "      <th>image_name</th>\n",
              "      <th>labels</th>\n",
              "      <th>pos_counts</th>\n",
              "      <th>label_count</th>\n",
              "    </tr>\n",
              "  </thead>\n",
              "  <tbody>\n",
              "    <tr>\n",
              "      <th>0</th>\n",
              "      <td>11T3V93AF_2280-3416-2792-3928.jpg</td>\n",
              "      <td>4</td>\n",
              "      <td>12525</td>\n",
              "      <td>1</td>\n",
              "    </tr>\n",
              "    <tr>\n",
              "      <th>1</th>\n",
              "      <td>11T3V93AF_2373-2788-2885-3300.jpg</td>\n",
              "      <td>4</td>\n",
              "      <td>5384</td>\n",
              "      <td>1</td>\n",
              "    </tr>\n",
              "    <tr>\n",
              "      <th>2</th>\n",
              "      <td>11T3V93AF_2721-2503-3233-3015.jpg</td>\n",
              "      <td>4</td>\n",
              "      <td>1609</td>\n",
              "      <td>1</td>\n",
              "    </tr>\n",
              "    <tr>\n",
              "      <th>3</th>\n",
              "      <td>11T3V93AF_3083-3751-3595-4263.jpg</td>\n",
              "      <td>4</td>\n",
              "      <td>4514</td>\n",
              "      <td>1</td>\n",
              "    </tr>\n",
              "    <tr>\n",
              "      <th>4</th>\n",
              "      <td>11T3V93AF_3877-4192-4389-4704.jpg</td>\n",
              "      <td>4</td>\n",
              "      <td>3883</td>\n",
              "      <td>1</td>\n",
              "    </tr>\n",
              "  </tbody>\n",
              "</table>\n",
              "</div>"
            ],
            "text/plain": [
              "                          image_name labels  pos_counts  label_count\n",
              "0  11T3V93AF_2280-3416-2792-3928.jpg      4       12525            1\n",
              "1  11T3V93AF_2373-2788-2885-3300.jpg      4        5384            1\n",
              "2  11T3V93AF_2721-2503-3233-3015.jpg      4        1609            1\n",
              "3  11T3V93AF_3083-3751-3595-4263.jpg      4        4514            1\n",
              "4  11T3V93AF_3877-4192-4389-4704.jpg      4        3883            1"
            ]
          },
          "metadata": {
            "tags": []
          },
          "execution_count": 3
        }
      ]
    },
    {
      "cell_type": "code",
      "metadata": {
        "id": "WW0Dsm01JW7C",
        "colab": {
          "base_uri": "https://localhost:8080/",
          "height": 109
        },
        "outputId": "f6d1af7b-9cea-4a19-f26f-fe04ecc23d51"
      },
      "source": [
        "df.dtypes"
      ],
      "execution_count": null,
      "outputs": [
        {
          "output_type": "execute_result",
          "data": {
            "text/plain": [
              "image_name     object\n",
              "labels         object\n",
              "pos_counts      int64\n",
              "label_count     int64\n",
              "dtype: object"
            ]
          },
          "metadata": {
            "tags": []
          },
          "execution_count": 4
        }
      ]
    },
    {
      "cell_type": "code",
      "metadata": {
        "id": "umASCWbnQyqf",
        "colab": {
          "base_uri": "https://localhost:8080/",
          "height": 302
        },
        "outputId": "7caaa032-272a-4b80-ca99-85ef214b3f52"
      },
      "source": [
        "sns.countplot(x= \"label_count\", data = df)"
      ],
      "execution_count": null,
      "outputs": [
        {
          "output_type": "execute_result",
          "data": {
            "text/plain": [
              "<matplotlib.axes._subplots.AxesSubplot at 0x7f120ea8b128>"
            ]
          },
          "metadata": {
            "tags": []
          },
          "execution_count": 5
        },
        {
          "output_type": "display_data",
          "data": {
            "image/png": "[encoded data removed]",
            "text/plain": [
              "<Figure size 432x288 with 1 Axes>"
            ]
          },
          "metadata": {
            "tags": [],
            "needs_background": "light"
          }
        }
      ]
    },
    {
      "cell_type": "code",
      "metadata": {
        "id": "9MkaSK9URs3D",
        "colab": {
          "base_uri": "https://localhost:8080/",
          "height": 206
        },
        "outputId": "15d7c696-3f90-4c76-e1d1-e609523a3a95"
      },
      "source": [
        "df2 = df[df.label_count == 1]\n",
        "df2.head()"
      ],
      "execution_count": null,
      "outputs": [
        {
          "output_type": "execute_result",
          "data": {
            "text/html": [
              "<div>\n",
              "<style scoped>\n",
              "    .dataframe tbody tr th:only-of-type {\n",
              "        vertical-align: middle;\n",
              "    }\n",
              "\n",
              "    .dataframe tbody tr th {\n",
              "        vertical-align: top;\n",
              "    }\n",
              "\n",
              "    .dataframe thead th {\n",
              "        text-align: right;\n",
              "    }\n",
              "</style>\n",
              "<table border=\"1\" class=\"dataframe\">\n",
              "  <thead>\n",
              "    <tr style=\"text-align: right;\">\n",
              "      <th></th>\n",
              "      <th>image_name</th>\n",
              "      <th>labels</th>\n",
              "      <th>pos_counts</th>\n",
              "      <th>label_count</th>\n",
              "    </tr>\n",
              "  </thead>\n",
              "  <tbody>\n",
              "    <tr>\n",
              "      <th>0</th>\n",
              "      <td>11T3V93AF_2280-3416-2792-3928.jpg</td>\n",
              "      <td>4</td>\n",
              "      <td>12525</td>\n",
              "      <td>1</td>\n",
              "    </tr>\n",
              "    <tr>\n",
              "      <th>1</th>\n",
              "      <td>11T3V93AF_2373-2788-2885-3300.jpg</td>\n",
              "      <td>4</td>\n",
              "      <td>5384</td>\n",
              "      <td>1</td>\n",
              "    </tr>\n",
              "    <tr>\n",
              "      <th>2</th>\n",
              "      <td>11T3V93AF_2721-2503-3233-3015.jpg</td>\n",
              "      <td>4</td>\n",
              "      <td>1609</td>\n",
              "      <td>1</td>\n",
              "    </tr>\n",
              "    <tr>\n",
              "      <th>3</th>\n",
              "      <td>11T3V93AF_3083-3751-3595-4263.jpg</td>\n",
              "      <td>4</td>\n",
              "      <td>4514</td>\n",
              "      <td>1</td>\n",
              "    </tr>\n",
              "    <tr>\n",
              "      <th>4</th>\n",
              "      <td>11T3V93AF_3877-4192-4389-4704.jpg</td>\n",
              "      <td>4</td>\n",
              "      <td>3883</td>\n",
              "      <td>1</td>\n",
              "    </tr>\n",
              "  </tbody>\n",
              "</table>\n",
              "</div>"
            ],
            "text/plain": [
              "                          image_name labels  pos_counts  label_count\n",
              "0  11T3V93AF_2280-3416-2792-3928.jpg      4       12525            1\n",
              "1  11T3V93AF_2373-2788-2885-3300.jpg      4        5384            1\n",
              "2  11T3V93AF_2721-2503-3233-3015.jpg      4        1609            1\n",
              "3  11T3V93AF_3083-3751-3595-4263.jpg      4        4514            1\n",
              "4  11T3V93AF_3877-4192-4389-4704.jpg      4        3883            1"
            ]
          },
          "metadata": {
            "tags": []
          },
          "execution_count": 6
        }
      ]
    },
    {
      "cell_type": "code",
      "metadata": {
        "id": "NpY9Joy4kYDD",
        "colab": {
          "base_uri": "https://localhost:8080/",
          "height": 298
        },
        "outputId": "f90cb2a5-6b00-4d62-8f3f-f41982e0403e"
      },
      "source": [
        "sns.countplot(x = \"labels\", data = df2)"
      ],
      "execution_count": null,
      "outputs": [
        {
          "output_type": "execute_result",
          "data": {
            "text/plain": [
              "<matplotlib.axes._subplots.AxesSubplot at 0x7f120e9b9f60>"
            ]
          },
          "metadata": {
            "tags": []
          },
          "execution_count": 7
        },
        {
          "output_type": "display_data",
          "data": {
            "image/png": "[encoded data removed]",
            "text/plain": [
              "<Figure size 432x288 with 1 Axes>"
            ]
          },
          "metadata": {
            "tags": [],
            "needs_background": "light"
          }
        }
      ]
    },
    {
      "cell_type": "code",
      "metadata": {
        "id": "d4SlODrCk5dm",
        "colab": {
          "base_uri": "https://localhost:8080/",
          "height": 269
        },
        "outputId": "d9e2fdc6-eefd-4187-8acc-bcd9e30c9e1d"
      },
      "source": [
        "temp = df2.groupby(\"labels\").sum()\n",
        "temp"
      ],
      "execution_count": null,
      "outputs": [
        {
          "output_type": "execute_result",
          "data": {
            "text/html": [
              "<div>\n",
              "<style scoped>\n",
              "    .dataframe tbody tr th:only-of-type {\n",
              "        vertical-align: middle;\n",
              "    }\n",
              "\n",
              "    .dataframe tbody tr th {\n",
              "        vertical-align: top;\n",
              "    }\n",
              "\n",
              "    .dataframe thead th {\n",
              "        text-align: right;\n",
              "    }\n",
              "</style>\n",
              "<table border=\"1\" class=\"dataframe\">\n",
              "  <thead>\n",
              "    <tr style=\"text-align: right;\">\n",
              "      <th></th>\n",
              "      <th>pos_counts</th>\n",
              "      <th>label_count</th>\n",
              "    </tr>\n",
              "    <tr>\n",
              "      <th>labels</th>\n",
              "      <th></th>\n",
              "      <th></th>\n",
              "    </tr>\n",
              "  </thead>\n",
              "  <tbody>\n",
              "    <tr>\n",
              "      <th>0</th>\n",
              "      <td>98387991</td>\n",
              "      <td>811</td>\n",
              "    </tr>\n",
              "    <tr>\n",
              "      <th>1</th>\n",
              "      <td>17645878</td>\n",
              "      <td>1165</td>\n",
              "    </tr>\n",
              "    <tr>\n",
              "      <th>2</th>\n",
              "      <td>5244825</td>\n",
              "      <td>122</td>\n",
              "    </tr>\n",
              "    <tr>\n",
              "      <th>3</th>\n",
              "      <td>43257986</td>\n",
              "      <td>554</td>\n",
              "    </tr>\n",
              "    <tr>\n",
              "      <th>4</th>\n",
              "      <td>27027768</td>\n",
              "      <td>1061</td>\n",
              "    </tr>\n",
              "    <tr>\n",
              "      <th>5</th>\n",
              "      <td>465439819</td>\n",
              "      <td>7723</td>\n",
              "    </tr>\n",
              "  </tbody>\n",
              "</table>\n",
              "</div>"
            ],
            "text/plain": [
              "        pos_counts  label_count\n",
              "labels                         \n",
              "0         98387991          811\n",
              "1         17645878         1165\n",
              "2          5244825          122\n",
              "3         43257986          554\n",
              "4         27027768         1061\n",
              "5        465439819         7723"
            ]
          },
          "metadata": {
            "tags": []
          },
          "execution_count": 8
        }
      ]
    },
    {
      "cell_type": "code",
      "metadata": {
        "id": "879IHS41lIiF",
        "colab": {
          "base_uri": "https://localhost:8080/",
          "height": 164
        },
        "outputId": "67c4cb98-0449-4bee-d17e-5017023ff009"
      },
      "source": [
        "temp[\"p/t\"] = temp[\"pos_counts\"]/(temp[\"label_count\"]*512*512)\n",
        "temp[\"p/t\"]"
      ],
      "execution_count": null,
      "outputs": [
        {
          "output_type": "execute_result",
          "data": {
            "text/plain": [
              "labels\n",
              "0    0.462787\n",
              "1    0.057780\n",
              "2    0.163995\n",
              "3    0.297863\n",
              "4    0.097175\n",
              "5    0.229899\n",
              "Name: p/t, dtype: float64"
            ]
          },
          "metadata": {
            "tags": []
          },
          "execution_count": 9
        }
      ]
    },
    {
      "cell_type": "code",
      "metadata": {
        "id": "7aD7gIj7mFnU",
        "colab": {
          "base_uri": "https://localhost:8080/",
          "height": 534
        },
        "outputId": "bd6572e2-8f1b-486d-e277-f443b1f43ece"
      },
      "source": [
        "five = df2[df2.labels == '5']\n",
        "five[\"p/t\"] = np.round((five[\"pos_counts\"]/(512*512)),1)\n",
        "five"
      ],
      "execution_count": null,
      "outputs": [
        {
          "output_type": "stream",
          "text": [
            "/usr/local/lib/python3.6/dist-packages/ipykernel_launcher.py:2: SettingWithCopyWarning: \n",
            "A value is trying to be set on a copy of a slice from a DataFrame.\n",
            "Try using .loc[row_indexer,col_indexer] = value instead\n",
            "\n",
            "See the caveats in the documentation: https://pandas.pydata.org/pandas-docs/stable/user_guide/indexing.html#returning-a-view-versus-a-copy\n",
            "  \n"
          ],
          "name": "stderr"
        },
        {
          "output_type": "execute_result",
          "data": {
            "text/html": [
              "<div>\n",
              "<style scoped>\n",
              "    .dataframe tbody tr th:only-of-type {\n",
              "        vertical-align: middle;\n",
              "    }\n",
              "\n",
              "    .dataframe tbody tr th {\n",
              "        vertical-align: top;\n",
              "    }\n",
              "\n",
              "    .dataframe thead th {\n",
              "        text-align: right;\n",
              "    }\n",
              "</style>\n",
              "<table border=\"1\" class=\"dataframe\">\n",
              "  <thead>\n",
              "    <tr style=\"text-align: right;\">\n",
              "      <th></th>\n",
              "      <th>image_name</th>\n",
              "      <th>labels</th>\n",
              "      <th>pos_counts</th>\n",
              "      <th>label_count</th>\n",
              "      <th>p/t</th>\n",
              "    </tr>\n",
              "  </thead>\n",
              "  <tbody>\n",
              "    <tr>\n",
              "      <th>17</th>\n",
              "      <td>11UBQLX1B_1052-819-1564-1331.jpg</td>\n",
              "      <td>5</td>\n",
              "      <td>54381</td>\n",
              "      <td>1</td>\n",
              "      <td>0.2</td>\n",
              "    </tr>\n",
              "    <tr>\n",
              "      <th>18</th>\n",
              "      <td>11UBQLX1B_1071-8398-1583-8910.jpg</td>\n",
              "      <td>5</td>\n",
              "      <td>48816</td>\n",
              "      <td>1</td>\n",
              "      <td>0.2</td>\n",
              "    </tr>\n",
              "    <tr>\n",
              "      <th>19</th>\n",
              "      <td>11UBQLX1B_1105-5908-1617-6420.jpg</td>\n",
              "      <td>5</td>\n",
              "      <td>93794</td>\n",
              "      <td>1</td>\n",
              "      <td>0.4</td>\n",
              "    </tr>\n",
              "    <tr>\n",
              "      <th>20</th>\n",
              "      <td>11UBQLX1B_1105-6420-1617-6932.jpg</td>\n",
              "      <td>5</td>\n",
              "      <td>102795</td>\n",
              "      <td>1</td>\n",
              "      <td>0.4</td>\n",
              "    </tr>\n",
              "    <tr>\n",
              "      <th>21</th>\n",
              "      <td>11UBQLX1B_1105-6932-1617-7444.jpg</td>\n",
              "      <td>5</td>\n",
              "      <td>76947</td>\n",
              "      <td>1</td>\n",
              "      <td>0.3</td>\n",
              "    </tr>\n",
              "    <tr>\n",
              "      <th>...</th>\n",
              "      <td>...</td>\n",
              "      <td>...</td>\n",
              "      <td>...</td>\n",
              "      <td>...</td>\n",
              "      <td>...</td>\n",
              "    </tr>\n",
              "    <tr>\n",
              "      <th>12716</th>\n",
              "      <td>ZT13DBZBJ_520-7696-1032-8208.jpg</td>\n",
              "      <td>5</td>\n",
              "      <td>22964</td>\n",
              "      <td>1</td>\n",
              "      <td>0.1</td>\n",
              "    </tr>\n",
              "    <tr>\n",
              "      <th>12718</th>\n",
              "      <td>ZT13DBZBJ_764-7517-1276-8029.jpg</td>\n",
              "      <td>5</td>\n",
              "      <td>17374</td>\n",
              "      <td>1</td>\n",
              "      <td>0.1</td>\n",
              "    </tr>\n",
              "    <tr>\n",
              "      <th>12719</th>\n",
              "      <td>ZT13DBZBJ_764-8029-1276-8541.jpg</td>\n",
              "      <td>5</td>\n",
              "      <td>18021</td>\n",
              "      <td>1</td>\n",
              "      <td>0.1</td>\n",
              "    </tr>\n",
              "    <tr>\n",
              "      <th>12720</th>\n",
              "      <td>ZT13DBZBJ_980-8420-1492-8932.jpg</td>\n",
              "      <td>5</td>\n",
              "      <td>23465</td>\n",
              "      <td>1</td>\n",
              "      <td>0.1</td>\n",
              "    </tr>\n",
              "    <tr>\n",
              "      <th>12731</th>\n",
              "      <td>ZVXKGVAPQ_2360-5356-2872-5868.jpg</td>\n",
              "      <td>5</td>\n",
              "      <td>11266</td>\n",
              "      <td>1</td>\n",
              "      <td>0.0</td>\n",
              "    </tr>\n",
              "  </tbody>\n",
              "</table>\n",
              "<p>7723 rows × 5 columns</p>\n",
              "</div>"
            ],
            "text/plain": [
              "                              image_name labels  pos_counts  label_count  p/t\n",
              "17      11UBQLX1B_1052-819-1564-1331.jpg      5       54381            1  0.2\n",
              "18     11UBQLX1B_1071-8398-1583-8910.jpg      5       48816            1  0.2\n",
              "19     11UBQLX1B_1105-5908-1617-6420.jpg      5       93794            1  0.4\n",
              "20     11UBQLX1B_1105-6420-1617-6932.jpg      5      102795            1  0.4\n",
              "21     11UBQLX1B_1105-6932-1617-7444.jpg      5       76947            1  0.3\n",
              "...                                  ...    ...         ...          ...  ...\n",
              "12716   ZT13DBZBJ_520-7696-1032-8208.jpg      5       22964            1  0.1\n",
              "12718   ZT13DBZBJ_764-7517-1276-8029.jpg      5       17374            1  0.1\n",
              "12719   ZT13DBZBJ_764-8029-1276-8541.jpg      5       18021            1  0.1\n",
              "12720   ZT13DBZBJ_980-8420-1492-8932.jpg      5       23465            1  0.1\n",
              "12731  ZVXKGVAPQ_2360-5356-2872-5868.jpg      5       11266            1  0.0\n",
              "\n",
              "[7723 rows x 5 columns]"
            ]
          },
          "metadata": {
            "tags": []
          },
          "execution_count": 10
        }
      ]
    },
    {
      "cell_type": "code",
      "metadata": {
        "id": "kVJPEVHrm3Aw",
        "colab": {
          "base_uri": "https://localhost:8080/",
          "height": 424
        },
        "outputId": "5379c212-ffda-4ec0-c1dc-359b24dff6ad"
      },
      "source": [
        "five[(five[\"p/t\"]>0.3) & (five[\"p/t\"]<0.7)]"
      ],
      "execution_count": null,
      "outputs": [
        {
          "output_type": "execute_result",
          "data": {
            "text/html": [
              "<div>\n",
              "<style scoped>\n",
              "    .dataframe tbody tr th:only-of-type {\n",
              "        vertical-align: middle;\n",
              "    }\n",
              "\n",
              "    .dataframe tbody tr th {\n",
              "        vertical-align: top;\n",
              "    }\n",
              "\n",
              "    .dataframe thead th {\n",
              "        text-align: right;\n",
              "    }\n",
              "</style>\n",
              "<table border=\"1\" class=\"dataframe\">\n",
              "  <thead>\n",
              "    <tr style=\"text-align: right;\">\n",
              "      <th></th>\n",
              "      <th>image_name</th>\n",
              "      <th>labels</th>\n",
              "      <th>pos_counts</th>\n",
              "      <th>label_count</th>\n",
              "      <th>p/t</th>\n",
              "    </tr>\n",
              "  </thead>\n",
              "  <tbody>\n",
              "    <tr>\n",
              "      <th>19</th>\n",
              "      <td>11UBQLX1B_1105-5908-1617-6420.jpg</td>\n",
              "      <td>5</td>\n",
              "      <td>93794</td>\n",
              "      <td>1</td>\n",
              "      <td>0.4</td>\n",
              "    </tr>\n",
              "    <tr>\n",
              "      <th>20</th>\n",
              "      <td>11UBQLX1B_1105-6420-1617-6932.jpg</td>\n",
              "      <td>5</td>\n",
              "      <td>102795</td>\n",
              "      <td>1</td>\n",
              "      <td>0.4</td>\n",
              "    </tr>\n",
              "    <tr>\n",
              "      <th>23</th>\n",
              "      <td>11UBQLX1B_1153-3481-1665-3993.jpg</td>\n",
              "      <td>5</td>\n",
              "      <td>114094</td>\n",
              "      <td>1</td>\n",
              "      <td>0.4</td>\n",
              "    </tr>\n",
              "    <tr>\n",
              "      <th>24</th>\n",
              "      <td>11UBQLX1B_1153-3993-1665-4505.jpg</td>\n",
              "      <td>5</td>\n",
              "      <td>125631</td>\n",
              "      <td>1</td>\n",
              "      <td>0.5</td>\n",
              "    </tr>\n",
              "    <tr>\n",
              "      <th>25</th>\n",
              "      <td>11UBQLX1B_1172-2175-1684-2687.jpg</td>\n",
              "      <td>5</td>\n",
              "      <td>93912</td>\n",
              "      <td>1</td>\n",
              "      <td>0.4</td>\n",
              "    </tr>\n",
              "    <tr>\n",
              "      <th>...</th>\n",
              "      <td>...</td>\n",
              "      <td>...</td>\n",
              "      <td>...</td>\n",
              "      <td>...</td>\n",
              "      <td>...</td>\n",
              "    </tr>\n",
              "    <tr>\n",
              "      <th>12676</th>\n",
              "      <td>ZKDM3I7V4_7277-4039-7789-4551.jpg</td>\n",
              "      <td>5</td>\n",
              "      <td>116959</td>\n",
              "      <td>1</td>\n",
              "      <td>0.4</td>\n",
              "    </tr>\n",
              "    <tr>\n",
              "      <th>12678</th>\n",
              "      <td>ZKDM3I7V4_7323-4419-7835-4931.jpg</td>\n",
              "      <td>5</td>\n",
              "      <td>129127</td>\n",
              "      <td>1</td>\n",
              "      <td>0.5</td>\n",
              "    </tr>\n",
              "    <tr>\n",
              "      <th>12688</th>\n",
              "      <td>ZKDM3I7V4_7564-4598-8076-5110.jpg</td>\n",
              "      <td>5</td>\n",
              "      <td>120326</td>\n",
              "      <td>1</td>\n",
              "      <td>0.5</td>\n",
              "    </tr>\n",
              "    <tr>\n",
              "      <th>12689</th>\n",
              "      <td>ZKDM3I7V4_7613-4238-8125-4750.jpg</td>\n",
              "      <td>5</td>\n",
              "      <td>115321</td>\n",
              "      <td>1</td>\n",
              "      <td>0.4</td>\n",
              "    </tr>\n",
              "    <tr>\n",
              "      <th>12700</th>\n",
              "      <td>ZKDM3I7V4_887-3177-1399-3689.jpg</td>\n",
              "      <td>5</td>\n",
              "      <td>110783</td>\n",
              "      <td>1</td>\n",
              "      <td>0.4</td>\n",
              "    </tr>\n",
              "  </tbody>\n",
              "</table>\n",
              "<p>1380 rows × 5 columns</p>\n",
              "</div>"
            ],
            "text/plain": [
              "                              image_name labels  pos_counts  label_count  p/t\n",
              "19     11UBQLX1B_1105-5908-1617-6420.jpg      5       93794            1  0.4\n",
              "20     11UBQLX1B_1105-6420-1617-6932.jpg      5      102795            1  0.4\n",
              "23     11UBQLX1B_1153-3481-1665-3993.jpg      5      114094            1  0.4\n",
              "24     11UBQLX1B_1153-3993-1665-4505.jpg      5      125631            1  0.5\n",
              "25     11UBQLX1B_1172-2175-1684-2687.jpg      5       93912            1  0.4\n",
              "...                                  ...    ...         ...          ...  ...\n",
              "12676  ZKDM3I7V4_7277-4039-7789-4551.jpg      5      116959            1  0.4\n",
              "12678  ZKDM3I7V4_7323-4419-7835-4931.jpg      5      129127            1  0.5\n",
              "12688  ZKDM3I7V4_7564-4598-8076-5110.jpg      5      120326            1  0.5\n",
              "12689  ZKDM3I7V4_7613-4238-8125-4750.jpg      5      115321            1  0.4\n",
              "12700   ZKDM3I7V4_887-3177-1399-3689.jpg      5      110783            1  0.4\n",
              "\n",
              "[1380 rows x 5 columns]"
            ]
          },
          "metadata": {
            "tags": []
          },
          "execution_count": 11
        }
      ]
    },
    {
      "cell_type": "code",
      "metadata": {
        "id": "QFrhzPPqna3i",
        "colab": {
          "base_uri": "https://localhost:8080/",
          "height": 297
        },
        "outputId": "aa8908f4-2339-4254-9fa6-baa7bb32d1c9"
      },
      "source": [
        "sns.countplot(x= \"p/t\", data = five, )"
      ],
      "execution_count": null,
      "outputs": [
        {
          "output_type": "execute_result",
          "data": {
            "text/plain": [
              "<matplotlib.axes._subplots.AxesSubplot at 0x7f120e28d198>"
            ]
          },
          "metadata": {
            "tags": []
          },
          "execution_count": 12
        },
        {
          "output_type": "display_data",
          "data": {
            "image/png": "[encoded data removed]",
            "text/plain": [
              "<Figure size 432x288 with 1 Axes>"
            ]
          },
          "metadata": {
            "tags": [],
            "needs_background": "light"
          }
        }
      ]
    },
    {
      "cell_type": "code",
      "metadata": {
        "id": "qzgrCNiDpg6p",
        "colab": {
          "base_uri": "https://localhost:8080/",
          "height": 297
        },
        "outputId": "53793710-a578-4360-9fdf-f147b67033a4"
      },
      "source": [
        "sns.countplot(x= \"p/t\", data = five[(five[\"p/t\"]>0.3) & (five[\"p/t\"]<0.7)] )"
      ],
      "execution_count": null,
      "outputs": [
        {
          "output_type": "execute_result",
          "data": {
            "text/plain": [
              "<matplotlib.axes._subplots.AxesSubplot at 0x7f120d20aef0>"
            ]
          },
          "metadata": {
            "tags": []
          },
          "execution_count": 13
        },
        {
          "output_type": "display_data",
          "data": {
            "image/png": "[encoded data removed]",
            "text/plain": [
              "<Figure size 432x288 with 1 Axes>"
            ]
          },
          "metadata": {
            "tags": [],
            "needs_background": "light"
          }
        }
      ]
    },
    {
      "cell_type": "code",
      "metadata": {
        "id": "7ZwAZ9nopqwK",
        "colab": {
          "base_uri": "https://localhost:8080/",
          "height": 35
        },
        "outputId": "aaf1e256-d35c-4a3a-b584-3bee13b18ddf"
      },
      "source": [
        "five[(five[\"p/t\"]>0.3) & (five[\"p/t\"]<0.7)].shape"
      ],
      "execution_count": null,
      "outputs": [
        {
          "output_type": "execute_result",
          "data": {
            "text/plain": [
              "(1380, 5)"
            ]
          },
          "metadata": {
            "tags": []
          },
          "execution_count": 14
        }
      ]
    },
    {
      "cell_type": "code",
      "metadata": {
        "id": "GMe5AEFXpy1g",
        "colab": {
          "base_uri": "https://localhost:8080/",
          "height": 424
        },
        "outputId": "d904f788-4b39-4988-fce2-9ac563bd063f"
      },
      "source": [
        "dat = five[(five[\"p/t\"]>0.3) & (five[\"p/t\"]<0.7)]\n",
        "dat"
      ],
      "execution_count": null,
      "outputs": [
        {
          "output_type": "execute_result",
          "data": {
            "text/html": [
              "<div>\n",
              "<style scoped>\n",
              "    .dataframe tbody tr th:only-of-type {\n",
              "        vertical-align: middle;\n",
              "    }\n",
              "\n",
              "    .dataframe tbody tr th {\n",
              "        vertical-align: top;\n",
              "    }\n",
              "\n",
              "    .dataframe thead th {\n",
              "        text-align: right;\n",
              "    }\n",
              "</style>\n",
              "<table border=\"1\" class=\"dataframe\">\n",
              "  <thead>\n",
              "    <tr style=\"text-align: right;\">\n",
              "      <th></th>\n",
              "      <th>image_name</th>\n",
              "      <th>labels</th>\n",
              "      <th>pos_counts</th>\n",
              "      <th>label_count</th>\n",
              "      <th>p/t</th>\n",
              "    </tr>\n",
              "  </thead>\n",
              "  <tbody>\n",
              "    <tr>\n",
              "      <th>19</th>\n",
              "      <td>11UBQLX1B_1105-5908-1617-6420.jpg</td>\n",
              "      <td>5</td>\n",
              "      <td>93794</td>\n",
              "      <td>1</td>\n",
              "      <td>0.4</td>\n",
              "    </tr>\n",
              "    <tr>\n",
              "      <th>20</th>\n",
              "      <td>11UBQLX1B_1105-6420-1617-6932.jpg</td>\n",
              "      <td>5</td>\n",
              "      <td>102795</td>\n",
              "      <td>1</td>\n",
              "      <td>0.4</td>\n",
              "    </tr>\n",
              "    <tr>\n",
              "      <th>23</th>\n",
              "      <td>11UBQLX1B_1153-3481-1665-3993.jpg</td>\n",
              "      <td>5</td>\n",
              "      <td>114094</td>\n",
              "      <td>1</td>\n",
              "      <td>0.4</td>\n",
              "    </tr>\n",
              "    <tr>\n",
              "      <th>24</th>\n",
              "      <td>11UBQLX1B_1153-3993-1665-4505.jpg</td>\n",
              "      <td>5</td>\n",
              "      <td>125631</td>\n",
              "      <td>1</td>\n",
              "      <td>0.5</td>\n",
              "    </tr>\n",
              "    <tr>\n",
              "      <th>25</th>\n",
              "      <td>11UBQLX1B_1172-2175-1684-2687.jpg</td>\n",
              "      <td>5</td>\n",
              "      <td>93912</td>\n",
              "      <td>1</td>\n",
              "      <td>0.4</td>\n",
              "    </tr>\n",
              "    <tr>\n",
              "      <th>...</th>\n",
              "      <td>...</td>\n",
              "      <td>...</td>\n",
              "      <td>...</td>\n",
              "      <td>...</td>\n",
              "      <td>...</td>\n",
              "    </tr>\n",
              "    <tr>\n",
              "      <th>12676</th>\n",
              "      <td>ZKDM3I7V4_7277-4039-7789-4551.jpg</td>\n",
              "      <td>5</td>\n",
              "      <td>116959</td>\n",
              "      <td>1</td>\n",
              "      <td>0.4</td>\n",
              "    </tr>\n",
              "    <tr>\n",
              "      <th>12678</th>\n",
              "      <td>ZKDM3I7V4_7323-4419-7835-4931.jpg</td>\n",
              "      <td>5</td>\n",
              "      <td>129127</td>\n",
              "      <td>1</td>\n",
              "      <td>0.5</td>\n",
              "    </tr>\n",
              "    <tr>\n",
              "      <th>12688</th>\n",
              "      <td>ZKDM3I7V4_7564-4598-8076-5110.jpg</td>\n",
              "      <td>5</td>\n",
              "      <td>120326</td>\n",
              "      <td>1</td>\n",
              "      <td>0.5</td>\n",
              "    </tr>\n",
              "    <tr>\n",
              "      <th>12689</th>\n",
              "      <td>ZKDM3I7V4_7613-4238-8125-4750.jpg</td>\n",
              "      <td>5</td>\n",
              "      <td>115321</td>\n",
              "      <td>1</td>\n",
              "      <td>0.4</td>\n",
              "    </tr>\n",
              "    <tr>\n",
              "      <th>12700</th>\n",
              "      <td>ZKDM3I7V4_887-3177-1399-3689.jpg</td>\n",
              "      <td>5</td>\n",
              "      <td>110783</td>\n",
              "      <td>1</td>\n",
              "      <td>0.4</td>\n",
              "    </tr>\n",
              "  </tbody>\n",
              "</table>\n",
              "<p>1380 rows × 5 columns</p>\n",
              "</div>"
            ],
            "text/plain": [
              "                              image_name labels  pos_counts  label_count  p/t\n",
              "19     11UBQLX1B_1105-5908-1617-6420.jpg      5       93794            1  0.4\n",
              "20     11UBQLX1B_1105-6420-1617-6932.jpg      5      102795            1  0.4\n",
              "23     11UBQLX1B_1153-3481-1665-3993.jpg      5      114094            1  0.4\n",
              "24     11UBQLX1B_1153-3993-1665-4505.jpg      5      125631            1  0.5\n",
              "25     11UBQLX1B_1172-2175-1684-2687.jpg      5       93912            1  0.4\n",
              "...                                  ...    ...         ...          ...  ...\n",
              "12676  ZKDM3I7V4_7277-4039-7789-4551.jpg      5      116959            1  0.4\n",
              "12678  ZKDM3I7V4_7323-4419-7835-4931.jpg      5      129127            1  0.5\n",
              "12688  ZKDM3I7V4_7564-4598-8076-5110.jpg      5      120326            1  0.5\n",
              "12689  ZKDM3I7V4_7613-4238-8125-4750.jpg      5      115321            1  0.4\n",
              "12700   ZKDM3I7V4_887-3177-1399-3689.jpg      5      110783            1  0.4\n",
              "\n",
              "[1380 rows x 5 columns]"
            ]
          },
          "metadata": {
            "tags": []
          },
          "execution_count": 15
        }
      ]
    },
    {
      "cell_type": "code",
      "metadata": {
        "id": "szOBTnb9qZoa",
        "colab": {
          "base_uri": "https://localhost:8080/",
          "height": 35
        },
        "outputId": "286a406b-d0d3-40cd-d313-9ac4ac28b9bd"
      },
      "source": [
        "dat.pos_counts.sum() / (dat.shape[0] * 512*512)"
      ],
      "execution_count": null,
      "outputs": [
        {
          "output_type": "execute_result",
          "data": {
            "text/plain": [
              "0.4783248624939849"
            ]
          },
          "metadata": {
            "tags": []
          },
          "execution_count": 16
        }
      ]
    },
    {
      "cell_type": "code",
      "metadata": {
        "id": "Sn26ZpvsqoWB"
      },
      "source": [
        "from sklearn.model_selection import train_test_split\n",
        "X_train, X_test, _, _ = train_test_split(dat[\"image_name\"],dat.labels,stratify = dat[\"p/t\"], shuffle = True, random_state = 42, test_size = 0.15)\n",
        "X_train, X_val, _, _ = train_test_split(dat[\"image_name\"],dat.labels,stratify = dat[\"p/t\"], shuffle = True, random_state = 42, test_size = 0.25)"
      ],
      "execution_count": null,
      "outputs": []
    },
    {
      "cell_type": "code",
      "metadata": {
        "id": "Z_fwQ_Qms_Gf"
      },
      "source": [
        "train_list = X_train.to_list()\n",
        "val_list = X_val.to_list()\n",
        "test_list = X_test.to_list()"
      ],
      "execution_count": null,
      "outputs": []
    },
    {
      "cell_type": "code",
      "metadata": {
        "id": "mZwEM-tatgIw",
        "colab": {
          "base_uri": "https://localhost:8080/",
          "height": 35
        },
        "outputId": "b85b13f1-eb15-47fa-c2af-90c1557f2c60"
      },
      "source": [
        "len(train_list), len(val_list), len(test_list)"
      ],
      "execution_count": null,
      "outputs": [
        {
          "output_type": "execute_result",
          "data": {
            "text/plain": [
              "(1035, 345, 207)"
            ]
          },
          "metadata": {
            "tags": []
          },
          "execution_count": 19
        }
      ]
    },
    {
      "cell_type": "code",
      "metadata": {
        "id": "Zf8zICMdtvg-"
      },
      "source": [
        "import cv2\n",
        "def load_images(images_list):\n",
        "  images = []\n",
        "  masks = []\n",
        "  for image in images_list:\n",
        "    image_path = os.path.join(\"Agriculture-Vision/train/images/rgb/\", image)\n",
        "    images.append(cv2.imread(image_path,1))\n",
        "    mask_path = os.path.join(\"Agriculture-Vision/train/labels/weed_cluster/\", image[:-3]+\"png\")\n",
        "    masks.append(cv2.imread(mask_path,0))\n",
        "  images = np.array(images, dtype= np.uint8)\n",
        "  masks  = np.expand_dims(np.array(masks, dtype=np.uint8), axis = -1)\n",
        "  return images, masks"
      ],
      "execution_count": null,
      "outputs": []
    },
    {
      "cell_type": "code",
      "metadata": {
        "id": "gS5gQQbyztZt"
      },
      "source": [
        "train_imgs, train_masks = load_images(train_list)"
      ],
      "execution_count": null,
      "outputs": []
    },
    {
      "cell_type": "code",
      "metadata": {
        "id": "k0WYajj8z7vB",
        "colab": {
          "base_uri": "https://localhost:8080/",
          "height": 35
        },
        "outputId": "5307892a-8af5-4f1a-ba3d-753b0784137c"
      },
      "source": [
        "train_imgs.shape"
      ],
      "execution_count": null,
      "outputs": [
        {
          "output_type": "execute_result",
          "data": {
            "text/plain": [
              "(1035, 512, 512, 3)"
            ]
          },
          "metadata": {
            "tags": []
          },
          "execution_count": 75
        }
      ]
    },
    {
      "cell_type": "code",
      "metadata": {
        "id": "K0jZw0s_0Xns",
        "colab": {
          "base_uri": "https://localhost:8080/",
          "height": 35
        },
        "outputId": "1a9625c3-d63c-4357-ba3c-8001ddb10b4c"
      },
      "source": [
        "train_masks.shape"
      ],
      "execution_count": null,
      "outputs": [
        {
          "output_type": "execute_result",
          "data": {
            "text/plain": [
              "(1035, 512, 512, 1)"
            ]
          },
          "metadata": {
            "tags": []
          },
          "execution_count": 76
        }
      ]
    },
    {
      "cell_type": "code",
      "metadata": {
        "id": "615Z0Nvn0-7w",
        "colab": {
          "base_uri": "https://localhost:8080/",
          "height": 35
        },
        "outputId": "0e974c4c-edb9-44b2-9f8b-2cac73045abd"
      },
      "source": [
        "type(train_imgs)"
      ],
      "execution_count": null,
      "outputs": [
        {
          "output_type": "execute_result",
          "data": {
            "text/plain": [
              "numpy.ndarray"
            ]
          },
          "metadata": {
            "tags": []
          },
          "execution_count": 77
        }
      ]
    },
    {
      "cell_type": "code",
      "metadata": {
        "id": "E_1npIWX1J7F"
      },
      "source": [
        "np.save(\"drive/My Drive/train_imgs.npy\", train_imgs)\n",
        "np.save(\"drive/My Drive/train_masks.npy\", train_masks)"
      ],
      "execution_count": null,
      "outputs": []
    },
    {
      "cell_type": "code",
      "metadata": {
        "id": "VX2pE3bk2QpU"
      },
      "source": [
        "del(train_imgs)\n",
        "del(train_masks)"
      ],
      "execution_count": null,
      "outputs": []
    },
    {
      "cell_type": "code",
      "metadata": {
        "id": "C3OKw4uF4A9_"
      },
      "source": [
        "val_imgs, val_masks = load_images(val_list)\n",
        "np.save(\"drive/My Drive/val_imgs.npy\", val_imgs)\n",
        "np.save(\"drive/My Drive/val_masks.npy\", val_masks)\n",
        "del(val_imgs)\n",
        "del(val_masks)\n",
        "test_imgs, test_masks = load_images(test_list)\n",
        "np.save(\"drive/My Drive/test_imgs.npy\", test_imgs)\n",
        "np.save(\"drive/My Drive/test_masks.npy\",test_masks)\n",
        "del(test_imgs)\n",
        "del(test_masks)"
      ],
      "execution_count": null,
      "outputs": []
    },
    {
      "cell_type": "code",
      "metadata": {
        "id": "JOUHDah24e6k"
      },
      "source": [
        "x = np.load(\"drive/My Drive/train_imgs.npy\")\n",
        "y = np.load(\"drive/My Drive/train_masks.npy\")"
      ],
      "execution_count": null,
      "outputs": []
    },
    {
      "cell_type": "code",
      "metadata": {
        "id": "D3E0aGC_6OLr",
        "colab": {
          "base_uri": "https://localhost:8080/",
          "height": 35
        },
        "outputId": "bd03b21f-77af-4b56-fa6a-bde696aea124"
      },
      "source": [
        "x.shape, y.shape"
      ],
      "execution_count": null,
      "outputs": [
        {
          "output_type": "execute_result",
          "data": {
            "text/plain": [
              "((1035, 512, 512, 3), (1035, 512, 512, 1))"
            ]
          },
          "metadata": {
            "tags": []
          },
          "execution_count": 87
        }
      ]
    },
    {
      "cell_type": "code",
      "metadata": {
        "id": "cuRkGiXg6R-o",
        "colab": {
          "base_uri": "https://localhost:8080/",
          "height": 287
        },
        "outputId": "8ae0d817-0d75-467f-dced-9fa4f1c899d8"
      },
      "source": [
        "plt.imshow(x[1,:,:,:])"
      ],
      "execution_count": null,
      "outputs": [
        {
          "output_type": "execute_result",
          "data": {
            "text/plain": [
              "<matplotlib.image.AxesImage at 0x7f12008c80b8>"
            ]
          },
          "metadata": {
            "tags": []
          },
          "execution_count": 88
        },
        {
          "output_type": "display_data",
          "data": {
            "image/png": "[encoded data removed]",
            "text/plain": [
              "<Figure size 432x288 with 1 Axes>"
            ]
          },
          "metadata": {
            "tags": [],
            "needs_background": "light"
          }
        }
      ]
    },
    {
      "cell_type": "code",
      "metadata": {
        "id": "CERAcAIx6lHq",
        "colab": {
          "base_uri": "https://localhost:8080/",
          "height": 287
        },
        "outputId": "008b37e5-4fd4-42ad-9d33-b66a9545b71d"
      },
      "source": [
        "plt.imshow(y[1,:,:,0])"
      ],
      "execution_count": null,
      "outputs": [
        {
          "output_type": "execute_result",
          "data": {
            "text/plain": [
              "<matplotlib.image.AxesImage at 0x7f1200964e10>"
            ]
          },
          "metadata": {
            "tags": []
          },
          "execution_count": 71
        },
        {
          "output_type": "display_data",
          "data": {
            "image/png": "[encoded data removed]",
            "text/plain": [
              "<Figure size 432x288 with 1 Axes>"
            ]
          },
          "metadata": {
            "tags": [],
            "needs_background": "light"
          }
        }
      ]
    },
    {
      "cell_type": "code",
      "metadata": {
        "id": "O7uRXGmq6rHI"
      },
      "source": [],
      "execution_count": null,
      "outputs": []
    }
  ]
}